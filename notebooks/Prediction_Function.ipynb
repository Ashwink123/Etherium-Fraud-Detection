{
 "cells": [
  {
   "cell_type": "code",
   "execution_count": 1,
   "id": "fbecf55d",
   "metadata": {},
   "outputs": [],
   "source": [
    "import pandas as pd\n",
    "import numpy as np\n",
    "import warnings\n",
    "warnings.filterwarnings(\"ignore\")\n",
    "import pickle\n",
    "from sklearn.preprocessing import StandardScaler\n",
    "import xgboost as xgb\n",
    "import json"
   ]
  },
  {
   "cell_type": "code",
   "execution_count": 2,
   "id": "21238c7f",
   "metadata": {},
   "outputs": [
    {
     "name": "stdout",
     "output_type": "stream",
     "text": [
      "{'total_erc20_tnxs': 5.0, 'erc20_uniq_rec_addr': 5.0, 'erc20_uniq_rec_contract_addr': 4.0, 'time_diff': 327679.35, 'total_ether_balance': 0.004326, 'max_value_received': 14.341, 'avg_val_received': 1.429861, 'erc20_min_val_rec': 0.0, 'unique_received_from_addresses': 148, 'received_tnx': 137, 'min_value_received': 0.001, 'avg_min_between_received_tnx': 2103.12, 'avg_min_between_sent_tnx': 211.6150523, 'total_ether_sent': 1641.74, 'max_val_sent': 2095.638173, 'erc20_total_ether_received': 21.161505, 'avg_val_sent': 70.0, 'sent_tnx': 10}\n"
     ]
    }
   ],
   "source": [
    "with open(\"../outputs/input1.json\", 'r') as file:\n",
    "    data = json.load(file)\n",
    "    print(data)"
   ]
  },
  {
   "cell_type": "code",
   "execution_count": 7,
   "id": "6b96da77",
   "metadata": {},
   "outputs": [
    {
     "data": {
      "text/plain": [
       "dict_keys(['total_erc20_tnxs', 'erc20_uniq_rec_addr', 'erc20_uniq_rec_contract_addr', 'time_diff', 'total_ether_balance', 'max_value_received', 'avg_val_received', 'erc20_min_val_rec', 'unique_received_from_addresses', 'received_tnx', 'min_value_received', 'avg_min_between_received_tnx', 'avg_min_between_sent_tnx', 'total_ether_sent', 'max_val_sent', 'erc20_total_ether_received', 'avg_val_sent', 'sent_tnx'])"
      ]
     },
     "execution_count": 7,
     "metadata": {},
     "output_type": "execute_result"
    }
   ],
   "source": [
    "data.keys()"
   ]
  },
  {
   "cell_type": "code",
   "execution_count": 3,
   "id": "f946b5e0",
   "metadata": {},
   "outputs": [
    {
     "name": "stdout",
     "output_type": "stream",
     "text": [
      "{'total_erc20_tnxs': 265.0, 'erc20_uniq_rec_addr': 58.0, 'erc20_uniq_rec_contract_addr': 54.0, 'time_diff': 704785.63, 'total_ether_balance': -279.2244185, 'max_value_received': 45.806785, 'avg_val_received': 6.589513, 'erc20_min_val_rec': 0.0, 'unique_received_from_addresses': 89, 'received_tnx': 40, 'min_value_received': 0.0, 'avg_min_between_received_tnx': 1093.71, 'avg_min_between_sent_tnx': 865.6910932, 'total_ether_sent': 844.26, 'max_val_sent': 35588543.78, 'erc20_total_ether_received': 1.200681, 'avg_val_sent': 31.22, 'sent_tnx': 721}\n"
     ]
    }
   ],
   "source": [
    "with open(\"../outputs/input2.json\", 'r') as file:\n",
    "    data2 = json.load(file)\n",
    "    print(data2)"
   ]
  },
  {
   "cell_type": "code",
   "execution_count": 4,
   "id": "da6e0079",
   "metadata": {},
   "outputs": [],
   "source": [
    "def Predict(input_json):\n",
    "    \n",
    "    data = pd.DataFrame(input_json,index=[0])\n",
    "    \n",
    "    with open(\"../outputs/scaler.pkl\",'rb') as scaler:\n",
    "        normalizer = pickle.load(scaler)\n",
    "\n",
    "    with open(\"../outputs/xbg.pkl\",'rb') as xgboost:\n",
    "        XGBClassifier = pickle.load(xgboost)\n",
    "        \n",
    "    data = normalizer.transform(data)\n",
    "    \n",
    "    prediction = XGBClassifier.predict(data)\n",
    "    \n",
    "    if prediction == 0:\n",
    "        return \"Non-Fradulent\"\n",
    "    \n",
    "    elif prediction == 1:\n",
    "        return \"Fradulent\""
   ]
  },
  {
   "cell_type": "code",
   "execution_count": 5,
   "id": "4b36e628",
   "metadata": {},
   "outputs": [
    {
     "data": {
      "text/plain": [
       "'Fradulent'"
      ]
     },
     "execution_count": 5,
     "metadata": {},
     "output_type": "execute_result"
    }
   ],
   "source": [
    "Predict(data)"
   ]
  },
  {
   "cell_type": "code",
   "execution_count": 6,
   "id": "e95efe38",
   "metadata": {},
   "outputs": [
    {
     "data": {
      "text/plain": [
       "'Non-Fradulent'"
      ]
     },
     "execution_count": 6,
     "metadata": {},
     "output_type": "execute_result"
    }
   ],
   "source": [
    "Predict(data2)"
   ]
  }
 ],
 "metadata": {
  "kernelspec": {
   "display_name": "Python 3 (ipykernel)",
   "language": "python",
   "name": "python3"
  },
  "language_info": {
   "codemirror_mode": {
    "name": "ipython",
    "version": 3
   },
   "file_extension": ".py",
   "mimetype": "text/x-python",
   "name": "python",
   "nbconvert_exporter": "python",
   "pygments_lexer": "ipython3",
   "version": "3.9.0"
  }
 },
 "nbformat": 4,
 "nbformat_minor": 5
}
