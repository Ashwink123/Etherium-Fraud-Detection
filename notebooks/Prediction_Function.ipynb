{
 "cells": [
  {
   "cell_type": "code",
   "execution_count": 1,
   "id": "fbecf55d",
   "metadata": {},
   "outputs": [],
   "source": [
    "import pandas as pd\n",
    "import numpy as np\n",
    "import warnings\n",
    "warnings.filterwarnings(\"ignore\")\n",
    "import pickle\n",
    "from sklearn.preprocessing import StandardScaler\n",
    "import xgboost as xgb\n",
    "import json"
   ]
  },
  {
   "cell_type": "code",
   "execution_count": 2,
   "id": "21238c7f",
   "metadata": {},
   "outputs": [
    {
     "name": "stdout",
     "output_type": "stream",
     "text": [
      "{'Total_ERC20_tnxs': 5.0, 'ERC20_uniq_rec_contract_addr': 5.0, 'ERC20_uniq_rec_addr': 4.0, 'Time_Diff_between_first_and_last_(Mins)': 327679.35, 'total_ether_balance': 0.004326, 'max_value_received': 14.341, 'avg_val_received': 1.429861, 'ERC20_min_val_rec': 0.0, 'Unique_Received_From_Addresses': 137, 'Received_Tnx': 148, 'min_value_received': 0.001, 'Avg_min_between_received_tnx': 2103.12, 'Avg_min_between_sent_tnx': 1641.74, 'total_Ether_sent': 211.6150523, 'max_val_sent': 70.0, 'ERC20_total_Ether_received': 2095.638173, 'avg_val_sent': 21.161505, 'Sent_tnx': 10}\n"
     ]
    }
   ],
   "source": [
    "with open(\"../outputs/input1.json\", 'r') as file:\n",
    "    data = json.load(file)\n",
    "    print(data)"
   ]
  },
  {
   "cell_type": "code",
   "execution_count": 3,
   "id": "f946b5e0",
   "metadata": {},
   "outputs": [
    {
     "name": "stdout",
     "output_type": "stream",
     "text": [
      "{'Total_ERC20_tnxs': 265.0, 'ERC20_uniq_rec_contract_addr': 58.0, 'ERC20_uniq_rec_addr': 54.0, 'Time_Diff_between_first_and_last_(Mins)': 704785.63, 'total_ether_balance': -279.2244185, 'max_value_received': 45.806785, 'avg_val_received': 6.589513, 'ERC20_min_val_rec': 0.0, 'Unique_Received_From_Addresses': 40, 'Received_Tnx': 89, 'min_value_received': 0.0, 'Avg_min_between_received_tnx': 1093.71, 'Avg_min_between_sent_tnx': 844.26, 'total_Ether_sent': 865.6910932, 'max_val_sent': 31.22, 'ERC20_total_Ether_received': 35588543.78, 'avg_val_sent': 1.200681, 'Sent_tnx': 721}\n"
     ]
    }
   ],
   "source": [
    "with open(\"../outputs/input2.json\", 'r') as file:\n",
    "    data2 = json.load(file)\n",
    "    print(data2)"
   ]
  },
  {
   "cell_type": "code",
   "execution_count": 4,
   "id": "da6e0079",
   "metadata": {},
   "outputs": [],
   "source": [
    "def Predict(input_json):\n",
    "    \n",
    "    data = pd.DataFrame(input_json,index=[0])\n",
    "    \n",
    "    with open(\"../outputs/scaler.pkl\",'rb') as scaler:\n",
    "        normalizer = pickle.load(scaler)\n",
    "\n",
    "    with open(\"../outputs/xbg.pkl\",'rb') as xgboost:\n",
    "        XGBClassifier = pickle.load(xgboost)\n",
    "        \n",
    "    data = normalizer.transform(data)\n",
    "    \n",
    "    prediction = XGBClassifier.predict(data)\n",
    "    \n",
    "    if prediction == 0:\n",
    "        return \"Non-Fradulent\"\n",
    "    \n",
    "    elif prediction == 1:\n",
    "        return \"Fradulent\""
   ]
  },
  {
   "cell_type": "code",
   "execution_count": 5,
   "id": "4b36e628",
   "metadata": {},
   "outputs": [
    {
     "data": {
      "text/plain": [
       "'Fradulent'"
      ]
     },
     "execution_count": 5,
     "metadata": {},
     "output_type": "execute_result"
    }
   ],
   "source": [
    "Predict(data)"
   ]
  },
  {
   "cell_type": "code",
   "execution_count": 6,
   "id": "e95efe38",
   "metadata": {},
   "outputs": [
    {
     "data": {
      "text/plain": [
       "'Non-Fradulent'"
      ]
     },
     "execution_count": 6,
     "metadata": {},
     "output_type": "execute_result"
    }
   ],
   "source": [
    "Predict(data2)"
   ]
  }
 ],
 "metadata": {
  "kernelspec": {
   "display_name": "Python 3 (ipykernel)",
   "language": "python",
   "name": "python3"
  },
  "language_info": {
   "codemirror_mode": {
    "name": "ipython",
    "version": 3
   },
   "file_extension": ".py",
   "mimetype": "text/x-python",
   "name": "python",
   "nbconvert_exporter": "python",
   "pygments_lexer": "ipython3",
   "version": "3.9.0"
  }
 },
 "nbformat": 4,
 "nbformat_minor": 5
}
