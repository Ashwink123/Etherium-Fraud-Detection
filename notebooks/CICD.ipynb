{
 "cells": [
  {
   "cell_type": "code",
   "execution_count": 1,
   "id": "8d0ef94b",
   "metadata": {},
   "outputs": [],
   "source": [
    "import pandas as pd\n",
    "import numpy as np\n",
    "import warnings\n",
    "pd.set_option('display.max_columns', 500)\n",
    "import pickle\n",
    "from sklearn.preprocessing import StandardScaler\n",
    "from sklearn.model_selection import train_test_split\n",
    "from sklearn.model_selection import RandomizedSearchCV\n",
    "from sklearn.metrics import confusion_matrix, f1_score\n",
    "from imblearn.over_sampling import RandomOverSampler\n",
    "from xgboost import XGBClassifier \n",
    "import json\n",
    "from sklearn.preprocessing import LabelEncoder"
   ]
  },
  {
   "cell_type": "code",
   "execution_count": 2,
   "id": "4e58b7c8",
   "metadata": {},
   "outputs": [],
   "source": [
    "InitDf = pd.read_csv(\"../data/transaction_dataset.csv\")"
   ]
  },
  {
   "cell_type": "code",
   "execution_count": 3,
   "id": "3f82c152",
   "metadata": {},
   "outputs": [],
   "source": [
    "InitDf.drop(['Unnamed: 0','Index'],axis=1,inplace=True)"
   ]
  },
  {
   "cell_type": "code",
   "execution_count": 4,
   "id": "c88d2db0",
   "metadata": {},
   "outputs": [],
   "source": [
    "def resample(X,Y):\n",
    "    le = LabelEncoder()\n",
    "    Y = le.fit_transform(Y)\n",
    "    random_oversampler = RandomOverSampler(sampling_strategy='minority',random_state=42)\n",
    "    \n",
    "    x_train,x_test,y_train,y_test = train_test_split(X,Y,random_state=42,train_size=0.7,test_size=0.3)\n",
    "    \n",
    "    x_train, y_train = random_oversampler.fit_resample(x_train,y_train)\n",
    "    \n",
    "    return x_train, x_test, y_train, y_test"
   ]
  },
  {
   "cell_type": "code",
   "execution_count": 5,
   "id": "a71c7d35",
   "metadata": {},
   "outputs": [],
   "source": [
    "def scaler(data):\n",
    "    sc = StandardScaler()\n",
    "    sc.fit(data)\n",
    "#     pickle.dump(sc, open('../outputs/scaler.pkl','wb'))\n",
    "    scaled = sc.transform(data)\n",
    "    scaled = pd.DataFrame(scaled,columns=data.columns)\n",
    "    return scaled"
   ]
  },
  {
   "cell_type": "code",
   "execution_count": 6,
   "id": "d97e0bf8",
   "metadata": {},
   "outputs": [],
   "source": [
    "def model_assesment(ground_truth,predictions):\n",
    "    \n",
    "    cm = confusion_matrix(ground_truth,predictions)\n",
    "    \n",
    "    TP = cm[1,1] # true positive \n",
    "    TN = cm[0,0] # true negatives\n",
    "    FP = cm[0,1] # false positives\n",
    "    FN = cm[1,0] # false negatives\n",
    "    \n",
    "    Sensitivity = TP / float(TP+FN)\n",
    "    Specificity = TN / float(TN+FP)\n",
    "    Precision = TP / float(TP + FP)\n",
    "    Recall = TP / float(TP + FN)\n",
    "    \n",
    "    F1 = round(f1_score(ground_truth,predictions)*100,2)\n",
    "    \n",
    "    return {'Sensitivity':Sensitivity,'Specificity':Specificity,'Precision':Precision,'Recall':Recall,'F1':F1}"
   ]
  },
  {
   "cell_type": "code",
   "execution_count": 7,
   "id": "1aa3d7a4",
   "metadata": {},
   "outputs": [],
   "source": [
    "def CICD(data):\n",
    "    \n",
    "    \n",
    "    with open('../outputs/ColNames.txt') as column_names:\n",
    "        train_columns = column_names.read()\n",
    "        train_columns = train_columns.split(\"\\n\")\n",
    "        train_columns.pop()\n",
    "\n",
    "        \n",
    "    target = data['FLAG']\n",
    "    independent = data.iloc[:,2:-1]\n",
    "    \n",
    "    object_valued_columns = []\n",
    "    numerical_valued_columns = []\n",
    "    \n",
    "    for i in independent.columns:\n",
    "        if independent[i].dtype == float or independent[i].dtype == int:\n",
    "            numerical_valued_columns.append(i)\n",
    "\n",
    "    for i in independent.columns:\n",
    "        if independent[i].dtype == object or independent[i].dtype == str:\n",
    "            object_valued_columns.append(i)\n",
    "            \n",
    "    numerical_valued_columns_renamed = [x.lstrip().rstrip().replace(\" \",\"_\") for x in numerical_valued_columns]\n",
    "    numerical_rename = dict(zip(numerical_valued_columns,numerical_valued_columns_renamed))\n",
    "    independent.rename(columns=numerical_rename,inplace=True)\n",
    "    \n",
    "    object_valued_columns_renamed = [x.lstrip().rstrip().replace(\" \",\"_\") for x in object_valued_columns]\n",
    "    object_rename = dict(zip(object_valued_columns,object_valued_columns_renamed))\n",
    "    independent.rename(columns=object_rename,inplace=True)\n",
    "    \n",
    "    independent = independent[train_columns]\n",
    "    \n",
    "    \n",
    "    for i in train_columns:\n",
    "        independent[i].fillna(independent[i].median(),inplace=True)\n",
    "        \n",
    "    normalize_independent = scaler(independent) \n",
    "        \n",
    "    x_train,x_test,y_train,y_test = resample(normalize_independent,target)  \n",
    "    \n",
    "    xgbclassifier_init = XGBClassifier()\n",
    "    xgbclassifier = xgbclassifier_init.fit(x_train,y_train)\n",
    "    \n",
    "    pred = xgbclassifier.predict(x_test)\n",
    "    \n",
    "    assesment = model_assesment(y_test,pred)\n",
    "    \n",
    "    if assesment['F1'] > 0.8:\n",
    "        assesment['Manual Retraining Necessity'] = 'NO'\n",
    "        return assesment\n",
    "    \n",
    "    elif assesment['F1'] < 0.8:\n",
    "        assesment['Manual Retraining Necessity'] = 'YES'\n",
    "        return assesment \n",
    "        \n",
    "    \n",
    "#     pickle.dump(xgbclassifier, open('../outputs/xbg.pkl', \"wb\"))\n",
    "    "
   ]
  },
  {
   "cell_type": "code",
   "execution_count": 8,
   "id": "7796d7ad",
   "metadata": {
    "scrolled": true
   },
   "outputs": [],
   "source": [
    "train_df = CICD(InitDf)"
   ]
  },
  {
   "cell_type": "code",
   "execution_count": 9,
   "id": "965bdb34",
   "metadata": {},
   "outputs": [
    {
     "data": {
      "text/plain": [
       "{'Sensitivity': 0.9646153846153847,\n",
       " 'Specificity': 0.9900130264871906,\n",
       " 'Precision': 0.9646153846153847,\n",
       " 'Recall': 0.9646153846153847,\n",
       " 'F1': 96.46,\n",
       " 'Manual Retraining Necessity': 'NO'}"
      ]
     },
     "execution_count": 9,
     "metadata": {},
     "output_type": "execute_result"
    }
   ],
   "source": [
    "train_df"
   ]
  }
 ],
 "metadata": {
  "kernelspec": {
   "display_name": "Python 3 (ipykernel)",
   "language": "python",
   "name": "python3"
  },
  "language_info": {
   "codemirror_mode": {
    "name": "ipython",
    "version": 3
   },
   "file_extension": ".py",
   "mimetype": "text/x-python",
   "name": "python",
   "nbconvert_exporter": "python",
   "pygments_lexer": "ipython3",
   "version": "3.9.0"
  }
 },
 "nbformat": 4,
 "nbformat_minor": 5
}
